{
  "metadata": {
    "analyzedDataset": "raw_trips_3_prepared",
    "creator": "admin",
    "customFields": {},
    "kernelspec": {
      "display_name": "Python 2",
      "language": "python",
      "name": "python2"
    },
    "language_info": {
      "codemirror_mode": {
        "name": "ipython",
        "version": 2
      },
      "file_extension": ".py",
      "mimetype": "text/x-python",
      "name": "python",
      "nbconvert_exporter": "python",
      "pygments_lexer": "ipython2",
      "version": "2.7.5"
    },
    "tags": [],
    "createdOn": 1687348061135
  },
  "nbformat": 4,
  "nbformat_minor": 1,
  "cells": [
    {
      "execution_count": 0,
      "cell_type": "code",
      "metadata": {},
      "source": [
        "# -*- coding: utf-8 -*-\n",
        "import dataiku\n",
        "from dataiku import pandasutils as pdu\n",
        "import pandas as pd # Pandas is a popular python package for in-memory data manipulation \n",
        "import numpy as np\n",
        "import os\n",
        "\n",
        "# Recipe inputs\n",
        "raw_trips_3_prepared_PYTHON \u003d dataiku.Dataset(\"raw_trips_3_prepared\")\n",
        "df \u003d raw_trips_3_prepared_PYTHON.get_dataframe()\n",
        "\n",
        "# Binning a few variables (with pandas library)\n",
        "variables\u003d[\"age\",\"duration\",\"purchase_lag\"]\n",
        "for field in variables:\n",
        "    min\u003ddf[field].min()-1\n",
        "    q1\u003ddf[field].quantile(0.25)\n",
        "    q2\u003ddf[field].quantile(0.50)\n",
        "    q3\u003ddf[field].quantile(0.75)\n",
        "    max\u003ddf[field].max()+1\n",
        "    bins \u003d [min, q1, q2, q3, max]\n",
        "    group_names \u003d [\u00271Q\u0027, \u00272Q\u0027, \u00273Q\u0027, \u00274Q\u0027]\n",
        "    df[\"BINNED_\"+field]\u003d pd.cut(df[field], bins, labels\u003dgroup_names)\n",
        "\n",
        "# Standardize the same variables\n",
        "for field in variables:\n",
        "    mean_var\u003ddf[field].mean()\n",
        "    std_var\u003ddf[field].std()\n",
        "    df[\"Z_\"+field]\u003d(df[field]-mean_var)/std_var\n",
        "\n",
        "# Math transformations (with numpy library)\n",
        "for field in variables:\n",
        "    df[\"LOG_\"+field]\u003dnp.log10(df[field] +1)\n",
        "    df[\"SQRT_\"+field]\u003dnp.sqrt(df[field])\n",
        "    df[\"INVERSE_\"+field]\u003d1/(df[field] +1)\n",
        "       \n",
        "# Recipe outputs\n",
        "raw_trips_3_prepared_PYTHON.write_with_schema(df)\n"
      ],
      "outputs": []
    },
    {
      "execution_count": 0,
      "cell_type": "code",
      "metadata": {},
      "source": [
        "df"
      ],
      "outputs": []
    }
  ]
}