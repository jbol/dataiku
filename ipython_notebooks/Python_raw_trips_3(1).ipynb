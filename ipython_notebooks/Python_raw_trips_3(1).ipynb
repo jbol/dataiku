{
  "metadata": {
    "analyzedDataset": "raw_trips_3_prepared",
    "creator": "admin",
    "customFields": {},
    "kernelspec": {
      "name": "py-dku-venv-datascience",
      "display_name": "Python (env datascience)",
      "language": "python"
    },
    "language_info": {
      "name": "python",
      "version": "3.6.8",
      "mimetype": "text/x-python",
      "codemirror_mode": {
        "name": "ipython",
        "version": 3
      },
      "pygments_lexer": "ipython3",
      "nbconvert_exporter": "python",
      "file_extension": ".py"
    },
    "tags": [],
    "createdOn": 1687348061135,
    "hide_input": false,
    "modifiedBy": "jkbolorinos@student.ie.edu"
  },
  "nbformat": 4,
  "nbformat_minor": 1,
  "cells": [
    {
      "execution_count": 0,
      "cell_type": "code",
      "metadata": {},
      "source": [
        "# -*- coding: utf-8 -*-\nimport dataiku\nfrom dataiku import pandasutils as pdu\nimport pandas as pd # Pandas is a popular python package for in-memory data manipulation \nimport numpy as np\nimport os\n\n# Recipe inputs\nraw_trips_3_prepared_PYTHON \u003d dataiku.Dataset(\"raw_trips_3_prepared\")\ndf \u003d raw_trips_3_prepared_PYTHON.get_dataframe()\n\n# Standardize the same variables\nfor field in variables:\n    mean_var\u003ddf[field].mean()\n    std_var\u003ddf[field].std()\n    df[\"Z_\"+field]\u003d(df[field]-mean_var)/std_var\n\n"
      ],
      "outputs": []
    },
    {
      "execution_count": 0,
      "cell_type": "code",
      "metadata": {},
      "source": [
        "df"
      ],
      "outputs": []
    }
  ]
}